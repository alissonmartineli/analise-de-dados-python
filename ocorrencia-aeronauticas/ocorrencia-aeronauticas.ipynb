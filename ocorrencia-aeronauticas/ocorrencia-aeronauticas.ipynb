{
 "cells": [
  {
   "cell_type": "markdown",
   "metadata": {},
   "source": [
    "# Análise de Ocorrências Aeronáuticas na Aviação Civil Brasileira"
   ]
  },
  {
   "cell_type": "markdown",
   "metadata": {},
   "source": [
    "## Introdução"
   ]
  },
  {
   "cell_type": "markdown",
   "metadata": {},
   "source": [
    "Nessa análise foram utilizados os dados da CENIPA (Centro de Investigação e Prevenção de Acidentes Aeronáuticos) da Força Aérea Brasileira, referentes as ocorrências aeronáuticas na aviação civil brasileira.\n",
    "\n",
    "https://dados.gov.br/dataset/ocorrencias-aeronauticas-da-aviacao-civil-brasileira\n",
    "\n",
    "Nesta base constam de dados as ocorrências aeronáuticas notificadas ao CENIPA nos últimos 10 anos e que ocorreram em solo brasileiro.\n",
    "\n",
    "Dentre as informações disponíveis estão os dados sobre as aeronaves envolvidas, fatalidades, local, data, horário dos eventos e informações taxonômicas típicas das investigações de acidentes (AIG)."
   ]
  },
  {
   "cell_type": "markdown",
   "metadata": {},
   "source": [
    "## Modelo de Dados"
   ]
  },
  {
   "cell_type": "markdown",
   "metadata": {},
   "source": [
    "![Imagem do modelo de relacionamento dos dados](./modelo_dados.png)"
   ]
  },
  {
   "cell_type": "markdown",
   "metadata": {},
   "source": [
    "## Carregando o Dataset"
   ]
  },
  {
   "cell_type": "code",
   "execution_count": 1,
   "metadata": {},
   "outputs": [],
   "source": [
    "# importanto blibliotecas\n",
    "import pandas as pd"
   ]
  },
  {
   "cell_type": "code",
   "execution_count": 2,
   "metadata": {},
   "outputs": [],
   "source": [
    "# carregando datasets\n",
    "df = pd.read_csv(\n",
    "        './datasets/ocorrencia_2010_2020.csv',\n",
    "        sep=';',\n",
    "        parse_dates=[\"ocorrencia_dia\", \"divulgacao_dia_publicacao\"],\n",
    "        dayfirst=True, na_values=[\"*\", \"**\", \"***\", \"****\", \"*****\", \"###!\", \"####\", \"+\"]\n",
    "    )"
   ]
  },
  {
   "cell_type": "code",
   "execution_count": 3,
   "metadata": {},
   "outputs": [
    {
     "data": {
      "text/html": [
       "<div>\n",
       "<style scoped>\n",
       "    .dataframe tbody tr th:only-of-type {\n",
       "        vertical-align: middle;\n",
       "    }\n",
       "\n",
       "    .dataframe tbody tr th {\n",
       "        vertical-align: top;\n",
       "    }\n",
       "\n",
       "    .dataframe thead th {\n",
       "        text-align: right;\n",
       "    }\n",
       "</style>\n",
       "<table border=\"1\" class=\"dataframe\">\n",
       "  <thead>\n",
       "    <tr style=\"text-align: right;\">\n",
       "      <th></th>\n",
       "      <th>codigo_ocorrencia</th>\n",
       "      <th>codigo_ocorrencia1</th>\n",
       "      <th>codigo_ocorrencia2</th>\n",
       "      <th>codigo_ocorrencia3</th>\n",
       "      <th>codigo_ocorrencia4</th>\n",
       "      <th>ocorrencia_classificacao</th>\n",
       "      <th>ocorrencia_latitude</th>\n",
       "      <th>ocorrencia_longitude</th>\n",
       "      <th>ocorrencia_cidade</th>\n",
       "      <th>ocorrencia_uf</th>\n",
       "      <th>...</th>\n",
       "      <th>ocorrencia_dia</th>\n",
       "      <th>ocorrencia_hora</th>\n",
       "      <th>investigacao_aeronave_liberada</th>\n",
       "      <th>investigacao_status</th>\n",
       "      <th>divulgacao_relatorio_numero</th>\n",
       "      <th>divulgacao_relatorio_publicado</th>\n",
       "      <th>divulgacao_dia_publicacao</th>\n",
       "      <th>total_recomendacoes</th>\n",
       "      <th>total_aeronaves_envolvidas</th>\n",
       "      <th>ocorrencia_saida_pista</th>\n",
       "    </tr>\n",
       "  </thead>\n",
       "  <tbody>\n",
       "    <tr>\n",
       "      <th>0</th>\n",
       "      <td>40211</td>\n",
       "      <td>40211</td>\n",
       "      <td>40211</td>\n",
       "      <td>40211</td>\n",
       "      <td>40211</td>\n",
       "      <td>INCIDENTE</td>\n",
       "      <td>NaN</td>\n",
       "      <td>NaN</td>\n",
       "      <td>RIO DE JANEIRO</td>\n",
       "      <td>RJ</td>\n",
       "      <td>...</td>\n",
       "      <td>2010-01-03</td>\n",
       "      <td>12:00:00</td>\n",
       "      <td>SIM</td>\n",
       "      <td>FINALIZADA</td>\n",
       "      <td>NaN</td>\n",
       "      <td>NÃO</td>\n",
       "      <td>NaT</td>\n",
       "      <td>0</td>\n",
       "      <td>1</td>\n",
       "      <td>NÃO</td>\n",
       "    </tr>\n",
       "    <tr>\n",
       "      <th>1</th>\n",
       "      <td>40349</td>\n",
       "      <td>40349</td>\n",
       "      <td>40349</td>\n",
       "      <td>40349</td>\n",
       "      <td>40349</td>\n",
       "      <td>INCIDENTE</td>\n",
       "      <td>NaN</td>\n",
       "      <td>NaN</td>\n",
       "      <td>BELÉM</td>\n",
       "      <td>PA</td>\n",
       "      <td>...</td>\n",
       "      <td>2010-01-03</td>\n",
       "      <td>11:05:00</td>\n",
       "      <td>SIM</td>\n",
       "      <td>FINALIZADA</td>\n",
       "      <td>NaN</td>\n",
       "      <td>NÃO</td>\n",
       "      <td>NaT</td>\n",
       "      <td>0</td>\n",
       "      <td>1</td>\n",
       "      <td>NÃO</td>\n",
       "    </tr>\n",
       "    <tr>\n",
       "      <th>2</th>\n",
       "      <td>40351</td>\n",
       "      <td>40351</td>\n",
       "      <td>40351</td>\n",
       "      <td>40351</td>\n",
       "      <td>40351</td>\n",
       "      <td>INCIDENTE</td>\n",
       "      <td>NaN</td>\n",
       "      <td>NaN</td>\n",
       "      <td>RIO DE JANEIRO</td>\n",
       "      <td>RJ</td>\n",
       "      <td>...</td>\n",
       "      <td>2010-01-03</td>\n",
       "      <td>03:00:00</td>\n",
       "      <td>SIM</td>\n",
       "      <td>FINALIZADA</td>\n",
       "      <td>NaN</td>\n",
       "      <td>NÃO</td>\n",
       "      <td>NaT</td>\n",
       "      <td>0</td>\n",
       "      <td>1</td>\n",
       "      <td>NÃO</td>\n",
       "    </tr>\n",
       "    <tr>\n",
       "      <th>3</th>\n",
       "      <td>39527</td>\n",
       "      <td>39527</td>\n",
       "      <td>39527</td>\n",
       "      <td>39527</td>\n",
       "      <td>39527</td>\n",
       "      <td>ACIDENTE</td>\n",
       "      <td>-13.1066666667</td>\n",
       "      <td>-55.9930555556</td>\n",
       "      <td>LUCAS DO RIO VERDE</td>\n",
       "      <td>MT</td>\n",
       "      <td>...</td>\n",
       "      <td>2010-01-04</td>\n",
       "      <td>17:30:00</td>\n",
       "      <td>SIM</td>\n",
       "      <td>FINALIZADA</td>\n",
       "      <td>A-539/CENIPA/2018</td>\n",
       "      <td>SIM</td>\n",
       "      <td>2019-10-28</td>\n",
       "      <td>0</td>\n",
       "      <td>1</td>\n",
       "      <td>NÃO</td>\n",
       "    </tr>\n",
       "    <tr>\n",
       "      <th>4</th>\n",
       "      <td>40324</td>\n",
       "      <td>40324</td>\n",
       "      <td>40324</td>\n",
       "      <td>40324</td>\n",
       "      <td>40324</td>\n",
       "      <td>INCIDENTE</td>\n",
       "      <td>NaN</td>\n",
       "      <td>NaN</td>\n",
       "      <td>PELOTAS</td>\n",
       "      <td>RS</td>\n",
       "      <td>...</td>\n",
       "      <td>2010-01-05</td>\n",
       "      <td>19:25:00</td>\n",
       "      <td>SIM</td>\n",
       "      <td>FINALIZADA</td>\n",
       "      <td>NaN</td>\n",
       "      <td>NÃO</td>\n",
       "      <td>NaT</td>\n",
       "      <td>0</td>\n",
       "      <td>1</td>\n",
       "      <td>NÃO</td>\n",
       "    </tr>\n",
       "  </tbody>\n",
       "</table>\n",
       "<p>5 rows × 22 columns</p>\n",
       "</div>"
      ],
      "text/plain": [
       "   codigo_ocorrencia  codigo_ocorrencia1  codigo_ocorrencia2  \\\n",
       "0              40211               40211               40211   \n",
       "1              40349               40349               40349   \n",
       "2              40351               40351               40351   \n",
       "3              39527               39527               39527   \n",
       "4              40324               40324               40324   \n",
       "\n",
       "   codigo_ocorrencia3  codigo_ocorrencia4 ocorrencia_classificacao  \\\n",
       "0               40211               40211                INCIDENTE   \n",
       "1               40349               40349                INCIDENTE   \n",
       "2               40351               40351                INCIDENTE   \n",
       "3               39527               39527                 ACIDENTE   \n",
       "4               40324               40324                INCIDENTE   \n",
       "\n",
       "  ocorrencia_latitude ocorrencia_longitude   ocorrencia_cidade ocorrencia_uf  \\\n",
       "0                 NaN                  NaN      RIO DE JANEIRO            RJ   \n",
       "1                 NaN                  NaN               BELÉM            PA   \n",
       "2                 NaN                  NaN      RIO DE JANEIRO            RJ   \n",
       "3      -13.1066666667       -55.9930555556  LUCAS DO RIO VERDE            MT   \n",
       "4                 NaN                  NaN             PELOTAS            RS   \n",
       "\n",
       "   ... ocorrencia_dia ocorrencia_hora investigacao_aeronave_liberada  \\\n",
       "0  ...     2010-01-03        12:00:00                            SIM   \n",
       "1  ...     2010-01-03        11:05:00                            SIM   \n",
       "2  ...     2010-01-03        03:00:00                            SIM   \n",
       "3  ...     2010-01-04        17:30:00                            SIM   \n",
       "4  ...     2010-01-05        19:25:00                            SIM   \n",
       "\n",
       "  investigacao_status divulgacao_relatorio_numero  \\\n",
       "0          FINALIZADA                         NaN   \n",
       "1          FINALIZADA                         NaN   \n",
       "2          FINALIZADA                         NaN   \n",
       "3          FINALIZADA           A-539/CENIPA/2018   \n",
       "4          FINALIZADA                         NaN   \n",
       "\n",
       "  divulgacao_relatorio_publicado divulgacao_dia_publicacao  \\\n",
       "0                            NÃO                       NaT   \n",
       "1                            NÃO                       NaT   \n",
       "2                            NÃO                       NaT   \n",
       "3                            SIM                2019-10-28   \n",
       "4                            NÃO                       NaT   \n",
       "\n",
       "  total_recomendacoes total_aeronaves_envolvidas  ocorrencia_saida_pista  \n",
       "0                   0                          1                     NÃO  \n",
       "1                   0                          1                     NÃO  \n",
       "2                   0                          1                     NÃO  \n",
       "3                   0                          1                     NÃO  \n",
       "4                   0                          1                     NÃO  \n",
       "\n",
       "[5 rows x 22 columns]"
      ]
     },
     "execution_count": 3,
     "metadata": {},
     "output_type": "execute_result"
    }
   ],
   "source": [
    "# exibindo 5 primeiros registros\n",
    "df.head()"
   ]
  },
  {
   "cell_type": "markdown",
   "metadata": {},
   "source": [
    "## Transformação e Limpeza"
   ]
  },
  {
   "cell_type": "code",
   "execution_count": 4,
   "metadata": {},
   "outputs": [
    {
     "data": {
      "text/plain": [
       "(5752, 22)"
      ]
     },
     "execution_count": 4,
     "metadata": {},
     "output_type": "execute_result"
    }
   ],
   "source": [
    "# tamanho do dataset (rows x cols)\n",
    "df.shape"
   ]
  },
  {
   "cell_type": "code",
   "execution_count": 5,
   "metadata": {},
   "outputs": [
    {
     "data": {
      "text/plain": [
       "codigo_ocorrencia                          int64\n",
       "codigo_ocorrencia1                         int64\n",
       "codigo_ocorrencia2                         int64\n",
       "codigo_ocorrencia3                         int64\n",
       "codigo_ocorrencia4                         int64\n",
       "ocorrencia_classificacao                  object\n",
       "ocorrencia_latitude                       object\n",
       "ocorrencia_longitude                      object\n",
       "ocorrencia_cidade                         object\n",
       "ocorrencia_uf                             object\n",
       "ocorrencia_pais                           object\n",
       "ocorrencia_aerodromo                      object\n",
       "ocorrencia_dia                    datetime64[ns]\n",
       "ocorrencia_hora                           object\n",
       "investigacao_aeronave_liberada            object\n",
       "investigacao_status                       object\n",
       "divulgacao_relatorio_numero               object\n",
       "divulgacao_relatorio_publicado            object\n",
       "divulgacao_dia_publicacao         datetime64[ns]\n",
       "total_recomendacoes                        int64\n",
       "total_aeronaves_envolvidas                 int64\n",
       "ocorrencia_saida_pista                    object\n",
       "dtype: object"
      ]
     },
     "execution_count": 5,
     "metadata": {},
     "output_type": "execute_result"
    }
   ],
   "source": [
    "# verificando tipos de dados\n",
    "df.dtypes"
   ]
  },
  {
   "cell_type": "code",
   "execution_count": 6,
   "metadata": {},
   "outputs": [
    {
     "data": {
      "text/plain": [
       "codigo_ocorrencia                    0\n",
       "codigo_ocorrencia1                   0\n",
       "codigo_ocorrencia2                   0\n",
       "codigo_ocorrencia3                   0\n",
       "codigo_ocorrencia4                   0\n",
       "ocorrencia_classificacao             0\n",
       "ocorrencia_latitude               2295\n",
       "ocorrencia_longitude              2297\n",
       "ocorrencia_cidade                    0\n",
       "ocorrencia_uf                        1\n",
       "ocorrencia_pais                      0\n",
       "ocorrencia_aerodromo              2349\n",
       "ocorrencia_dia                       0\n",
       "ocorrencia_hora                      1\n",
       "investigacao_aeronave_liberada    2482\n",
       "investigacao_status                340\n",
       "divulgacao_relatorio_numero       3802\n",
       "divulgacao_relatorio_publicado       0\n",
       "divulgacao_dia_publicacao         4258\n",
       "total_recomendacoes                  0\n",
       "total_aeronaves_envolvidas           0\n",
       "ocorrencia_saida_pista               0\n",
       "dtype: int64"
      ]
     },
     "execution_count": 6,
     "metadata": {},
     "output_type": "execute_result"
    }
   ],
   "source": [
    "# verificando dados nulos\n",
    "df.isnull().sum()"
   ]
  },
  {
   "cell_type": "code",
   "execution_count": 7,
   "metadata": {},
   "outputs": [
    {
     "data": {
      "text/html": [
       "<div>\n",
       "<style scoped>\n",
       "    .dataframe tbody tr th:only-of-type {\n",
       "        vertical-align: middle;\n",
       "    }\n",
       "\n",
       "    .dataframe tbody tr th {\n",
       "        vertical-align: top;\n",
       "    }\n",
       "\n",
       "    .dataframe thead th {\n",
       "        text-align: right;\n",
       "    }\n",
       "</style>\n",
       "<table border=\"1\" class=\"dataframe\">\n",
       "  <thead>\n",
       "    <tr style=\"text-align: right;\">\n",
       "      <th></th>\n",
       "      <th>codigo_ocorrencia</th>\n",
       "      <th>codigo_ocorrencia1</th>\n",
       "      <th>codigo_ocorrencia2</th>\n",
       "      <th>codigo_ocorrencia3</th>\n",
       "      <th>codigo_ocorrencia4</th>\n",
       "      <th>ocorrencia_classificacao</th>\n",
       "      <th>ocorrencia_latitude</th>\n",
       "      <th>ocorrencia_longitude</th>\n",
       "      <th>ocorrencia_cidade</th>\n",
       "      <th>ocorrencia_uf</th>\n",
       "      <th>...</th>\n",
       "      <th>ocorrencia_dia</th>\n",
       "      <th>ocorrencia_hora</th>\n",
       "      <th>investigacao_aeronave_liberada</th>\n",
       "      <th>investigacao_status</th>\n",
       "      <th>divulgacao_relatorio_numero</th>\n",
       "      <th>divulgacao_relatorio_publicado</th>\n",
       "      <th>divulgacao_dia_publicacao</th>\n",
       "      <th>total_recomendacoes</th>\n",
       "      <th>total_aeronaves_envolvidas</th>\n",
       "      <th>ocorrencia_saida_pista</th>\n",
       "    </tr>\n",
       "  </thead>\n",
       "  <tbody>\n",
       "    <tr>\n",
       "      <th>4100</th>\n",
       "      <td>78823</td>\n",
       "      <td>78823</td>\n",
       "      <td>78823</td>\n",
       "      <td>78823</td>\n",
       "      <td>78823</td>\n",
       "      <td>INCIDENTE</td>\n",
       "      <td>NaN</td>\n",
       "      <td>NaN</td>\n",
       "      <td>CORUMBÁ</td>\n",
       "      <td>MS</td>\n",
       "      <td>...</td>\n",
       "      <td>2017-07-09</td>\n",
       "      <td>NaN</td>\n",
       "      <td>NaN</td>\n",
       "      <td>FINALIZADA</td>\n",
       "      <td>NaN</td>\n",
       "      <td>NÃO</td>\n",
       "      <td>NaT</td>\n",
       "      <td>0</td>\n",
       "      <td>1</td>\n",
       "      <td>NÃO</td>\n",
       "    </tr>\n",
       "  </tbody>\n",
       "</table>\n",
       "<p>1 rows × 22 columns</p>\n",
       "</div>"
      ],
      "text/plain": [
       "      codigo_ocorrencia  codigo_ocorrencia1  codigo_ocorrencia2  \\\n",
       "4100              78823               78823               78823   \n",
       "\n",
       "      codigo_ocorrencia3  codigo_ocorrencia4 ocorrencia_classificacao  \\\n",
       "4100               78823               78823                INCIDENTE   \n",
       "\n",
       "     ocorrencia_latitude ocorrencia_longitude ocorrencia_cidade ocorrencia_uf  \\\n",
       "4100                 NaN                  NaN           CORUMBÁ            MS   \n",
       "\n",
       "      ... ocorrencia_dia ocorrencia_hora investigacao_aeronave_liberada  \\\n",
       "4100  ...     2017-07-09             NaN                            NaN   \n",
       "\n",
       "     investigacao_status divulgacao_relatorio_numero  \\\n",
       "4100          FINALIZADA                         NaN   \n",
       "\n",
       "     divulgacao_relatorio_publicado divulgacao_dia_publicacao  \\\n",
       "4100                            NÃO                       NaT   \n",
       "\n",
       "     total_recomendacoes total_aeronaves_envolvidas  ocorrencia_saida_pista  \n",
       "4100                   0                          1                     NÃO  \n",
       "\n",
       "[1 rows x 22 columns]"
      ]
     },
     "execution_count": 7,
     "metadata": {},
     "output_type": "execute_result"
    }
   ],
   "source": [
    "# verificando único registro com ocorrencia_hora vazio\n",
    "df.loc[df['ocorrencia_hora'].isnull()]"
   ]
  },
  {
   "cell_type": "code",
   "execution_count": 8,
   "metadata": {},
   "outputs": [
    {
     "data": {
      "text/plain": [
       "array(['INCIDENTE', 'ACIDENTE', 'INCIDENTE GRAVE'], dtype=object)"
      ]
     },
     "execution_count": 8,
     "metadata": {},
     "output_type": "execute_result"
    }
   ],
   "source": [
    "# verificando categorias possíveis para ocorrencia_classificacao\n",
    "df['ocorrencia_classificacao'].unique()"
   ]
  },
  {
   "cell_type": "code",
   "execution_count": 9,
   "metadata": {},
   "outputs": [
    {
     "data": {
      "text/plain": [
       "array(['SIM', nan, 'NÃO'], dtype=object)"
      ]
     },
     "execution_count": 9,
     "metadata": {},
     "output_type": "execute_result"
    }
   ],
   "source": [
    "# verificando categorias possíveis para investigacao_aeronave_liberada\n",
    "df['investigacao_aeronave_liberada'].unique()"
   ]
  },
  {
   "cell_type": "code",
   "execution_count": 10,
   "metadata": {},
   "outputs": [
    {
     "data": {
      "text/plain": [
       "array(['FINALIZADA', nan, 'ATIVA'], dtype=object)"
      ]
     },
     "execution_count": 10,
     "metadata": {},
     "output_type": "execute_result"
    }
   ],
   "source": [
    "# verificando categorias possíveis para investigacao_status\n",
    "df['investigacao_status'].unique()"
   ]
  },
  {
   "cell_type": "code",
   "execution_count": 11,
   "metadata": {},
   "outputs": [
    {
     "data": {
      "text/plain": [
       "array(['NÃO', 'SIM'], dtype=object)"
      ]
     },
     "execution_count": 11,
     "metadata": {},
     "output_type": "execute_result"
    }
   ],
   "source": [
    "# verificando categorias possíveis para divulgacao_relatorio_publicado\n",
    "df['divulgacao_relatorio_publicado'].unique()"
   ]
  },
  {
   "cell_type": "code",
   "execution_count": 12,
   "metadata": {},
   "outputs": [
    {
     "data": {
      "text/plain": [
       "array(['NÃO', 'SIM'], dtype=object)"
      ]
     },
     "execution_count": 12,
     "metadata": {},
     "output_type": "execute_result"
    }
   ],
   "source": [
    "# verificando categorias possíveis para ocorrencia_saida_pista\n",
    "df['ocorrencia_saida_pista'].unique()"
   ]
  },
  {
   "cell_type": "code",
   "execution_count": 13,
   "metadata": {},
   "outputs": [],
   "source": [
    "# convertendo lat e lng para numero\n",
    "df['ocorrencia_latitude'] = pd.to_numeric(df['ocorrencia_latitude'], errors='coerce')\n",
    "df['ocorrencia_longitude'] = pd.to_numeric(df['ocorrencia_longitude'], errors='coerce')"
   ]
  },
  {
   "cell_type": "code",
   "execution_count": 14,
   "metadata": {},
   "outputs": [
    {
     "data": {
      "text/plain": [
       "codigo_ocorrencia                          int64\n",
       "codigo_ocorrencia1                         int64\n",
       "codigo_ocorrencia2                         int64\n",
       "codigo_ocorrencia3                         int64\n",
       "codigo_ocorrencia4                         int64\n",
       "ocorrencia_classificacao                  object\n",
       "ocorrencia_latitude                      float64\n",
       "ocorrencia_longitude                     float64\n",
       "ocorrencia_cidade                         object\n",
       "ocorrencia_uf                             object\n",
       "ocorrencia_pais                           object\n",
       "ocorrencia_aerodromo                      object\n",
       "ocorrencia_dia                    datetime64[ns]\n",
       "ocorrencia_hora                           object\n",
       "investigacao_aeronave_liberada            object\n",
       "investigacao_status                       object\n",
       "divulgacao_relatorio_numero               object\n",
       "divulgacao_relatorio_publicado            object\n",
       "divulgacao_dia_publicacao         datetime64[ns]\n",
       "total_recomendacoes                        int64\n",
       "total_aeronaves_envolvidas                 int64\n",
       "ocorrencia_saida_pista                    object\n",
       "dtype: object"
      ]
     },
     "execution_count": 14,
     "metadata": {},
     "output_type": "execute_result"
    }
   ],
   "source": [
    "df.dtypes"
   ]
  },
  {
   "cell_type": "code",
   "execution_count": 15,
   "metadata": {},
   "outputs": [],
   "source": [
    "# preenchendo ocorrencia_hora vazio\n",
    "df['ocorrencia_hora'].fillna(\"00:00:00\", inplace=True)"
   ]
  },
  {
   "cell_type": "code",
   "execution_count": 16,
   "metadata": {},
   "outputs": [
    {
     "data": {
      "text/plain": [
       "0"
      ]
     },
     "execution_count": 16,
     "metadata": {},
     "output_type": "execute_result"
    }
   ],
   "source": [
    "df['ocorrencia_hora'].isnull().sum()"
   ]
  },
  {
   "cell_type": "code",
   "execution_count": 17,
   "metadata": {},
   "outputs": [],
   "source": [
    "# juntando ocorrencia_dia e ocorrencia_hora\n",
    "df['ocorrencia_dia_hora'] = pd.to_datetime(df['ocorrencia_dia'].astype(str) + \" \" + df['ocorrencia_hora'])"
   ]
  },
  {
   "cell_type": "code",
   "execution_count": 18,
   "metadata": {},
   "outputs": [
    {
     "data": {
      "text/plain": [
       "codigo_ocorrencia                          int64\n",
       "codigo_ocorrencia1                         int64\n",
       "codigo_ocorrencia2                         int64\n",
       "codigo_ocorrencia3                         int64\n",
       "codigo_ocorrencia4                         int64\n",
       "ocorrencia_classificacao                  object\n",
       "ocorrencia_latitude                      float64\n",
       "ocorrencia_longitude                     float64\n",
       "ocorrencia_cidade                         object\n",
       "ocorrencia_uf                             object\n",
       "ocorrencia_pais                           object\n",
       "ocorrencia_aerodromo                      object\n",
       "ocorrencia_dia                    datetime64[ns]\n",
       "ocorrencia_hora                           object\n",
       "investigacao_aeronave_liberada            object\n",
       "investigacao_status                       object\n",
       "divulgacao_relatorio_numero               object\n",
       "divulgacao_relatorio_publicado            object\n",
       "divulgacao_dia_publicacao         datetime64[ns]\n",
       "total_recomendacoes                        int64\n",
       "total_aeronaves_envolvidas                 int64\n",
       "ocorrencia_saida_pista                    object\n",
       "ocorrencia_dia_hora               datetime64[ns]\n",
       "dtype: object"
      ]
     },
     "execution_count": 18,
     "metadata": {},
     "output_type": "execute_result"
    }
   ],
   "source": [
    "df.dtypes"
   ]
  },
  {
   "cell_type": "code",
   "execution_count": 19,
   "metadata": {},
   "outputs": [
    {
     "data": {
      "text/plain": [
       "codigo_ocorrencia                    0\n",
       "codigo_ocorrencia1                   0\n",
       "codigo_ocorrencia2                   0\n",
       "codigo_ocorrencia3                   0\n",
       "codigo_ocorrencia4                   0\n",
       "ocorrencia_classificacao             0\n",
       "ocorrencia_latitude               2855\n",
       "ocorrencia_longitude              2851\n",
       "ocorrencia_cidade                    0\n",
       "ocorrencia_uf                        1\n",
       "ocorrencia_pais                      0\n",
       "ocorrencia_aerodromo              2349\n",
       "ocorrencia_dia                       0\n",
       "ocorrencia_hora                      0\n",
       "investigacao_aeronave_liberada    2482\n",
       "investigacao_status                340\n",
       "divulgacao_relatorio_numero       3802\n",
       "divulgacao_relatorio_publicado       0\n",
       "divulgacao_dia_publicacao         4258\n",
       "total_recomendacoes                  0\n",
       "total_aeronaves_envolvidas           0\n",
       "ocorrencia_saida_pista               0\n",
       "ocorrencia_dia_hora                  0\n",
       "dtype: int64"
      ]
     },
     "execution_count": 19,
     "metadata": {},
     "output_type": "execute_result"
    }
   ],
   "source": [
    "df.isnull().sum()"
   ]
  },
  {
   "cell_type": "code",
   "execution_count": 20,
   "metadata": {},
   "outputs": [],
   "source": [
    "# removendo colunas ocorrencia_dia e ocorrencia_hora\n",
    "df.drop(['ocorrencia_dia', 'ocorrencia_hora'], axis=1, inplace=True)"
   ]
  },
  {
   "cell_type": "code",
   "execution_count": 21,
   "metadata": {},
   "outputs": [
    {
     "data": {
      "text/html": [
       "<div>\n",
       "<style scoped>\n",
       "    .dataframe tbody tr th:only-of-type {\n",
       "        vertical-align: middle;\n",
       "    }\n",
       "\n",
       "    .dataframe tbody tr th {\n",
       "        vertical-align: top;\n",
       "    }\n",
       "\n",
       "    .dataframe thead th {\n",
       "        text-align: right;\n",
       "    }\n",
       "</style>\n",
       "<table border=\"1\" class=\"dataframe\">\n",
       "  <thead>\n",
       "    <tr style=\"text-align: right;\">\n",
       "      <th></th>\n",
       "      <th>codigo_ocorrencia</th>\n",
       "      <th>codigo_ocorrencia1</th>\n",
       "      <th>codigo_ocorrencia2</th>\n",
       "      <th>codigo_ocorrencia3</th>\n",
       "      <th>codigo_ocorrencia4</th>\n",
       "      <th>ocorrencia_classificacao</th>\n",
       "      <th>ocorrencia_latitude</th>\n",
       "      <th>ocorrencia_longitude</th>\n",
       "      <th>ocorrencia_cidade</th>\n",
       "      <th>ocorrencia_uf</th>\n",
       "      <th>...</th>\n",
       "      <th>ocorrencia_aerodromo</th>\n",
       "      <th>investigacao_aeronave_liberada</th>\n",
       "      <th>investigacao_status</th>\n",
       "      <th>divulgacao_relatorio_numero</th>\n",
       "      <th>divulgacao_relatorio_publicado</th>\n",
       "      <th>divulgacao_dia_publicacao</th>\n",
       "      <th>total_recomendacoes</th>\n",
       "      <th>total_aeronaves_envolvidas</th>\n",
       "      <th>ocorrencia_saida_pista</th>\n",
       "      <th>ocorrencia_dia_hora</th>\n",
       "    </tr>\n",
       "  </thead>\n",
       "  <tbody>\n",
       "    <tr>\n",
       "      <th>0</th>\n",
       "      <td>40211</td>\n",
       "      <td>40211</td>\n",
       "      <td>40211</td>\n",
       "      <td>40211</td>\n",
       "      <td>40211</td>\n",
       "      <td>INCIDENTE</td>\n",
       "      <td>NaN</td>\n",
       "      <td>NaN</td>\n",
       "      <td>RIO DE JANEIRO</td>\n",
       "      <td>RJ</td>\n",
       "      <td>...</td>\n",
       "      <td>NaN</td>\n",
       "      <td>SIM</td>\n",
       "      <td>FINALIZADA</td>\n",
       "      <td>NaN</td>\n",
       "      <td>NÃO</td>\n",
       "      <td>NaT</td>\n",
       "      <td>0</td>\n",
       "      <td>1</td>\n",
       "      <td>NÃO</td>\n",
       "      <td>2010-01-03 12:00:00</td>\n",
       "    </tr>\n",
       "    <tr>\n",
       "      <th>1</th>\n",
       "      <td>40349</td>\n",
       "      <td>40349</td>\n",
       "      <td>40349</td>\n",
       "      <td>40349</td>\n",
       "      <td>40349</td>\n",
       "      <td>INCIDENTE</td>\n",
       "      <td>NaN</td>\n",
       "      <td>NaN</td>\n",
       "      <td>BELÉM</td>\n",
       "      <td>PA</td>\n",
       "      <td>...</td>\n",
       "      <td>SBBE</td>\n",
       "      <td>SIM</td>\n",
       "      <td>FINALIZADA</td>\n",
       "      <td>NaN</td>\n",
       "      <td>NÃO</td>\n",
       "      <td>NaT</td>\n",
       "      <td>0</td>\n",
       "      <td>1</td>\n",
       "      <td>NÃO</td>\n",
       "      <td>2010-01-03 11:05:00</td>\n",
       "    </tr>\n",
       "    <tr>\n",
       "      <th>2</th>\n",
       "      <td>40351</td>\n",
       "      <td>40351</td>\n",
       "      <td>40351</td>\n",
       "      <td>40351</td>\n",
       "      <td>40351</td>\n",
       "      <td>INCIDENTE</td>\n",
       "      <td>NaN</td>\n",
       "      <td>NaN</td>\n",
       "      <td>RIO DE JANEIRO</td>\n",
       "      <td>RJ</td>\n",
       "      <td>...</td>\n",
       "      <td>SBRJ</td>\n",
       "      <td>SIM</td>\n",
       "      <td>FINALIZADA</td>\n",
       "      <td>NaN</td>\n",
       "      <td>NÃO</td>\n",
       "      <td>NaT</td>\n",
       "      <td>0</td>\n",
       "      <td>1</td>\n",
       "      <td>NÃO</td>\n",
       "      <td>2010-01-03 03:00:00</td>\n",
       "    </tr>\n",
       "    <tr>\n",
       "      <th>3</th>\n",
       "      <td>39527</td>\n",
       "      <td>39527</td>\n",
       "      <td>39527</td>\n",
       "      <td>39527</td>\n",
       "      <td>39527</td>\n",
       "      <td>ACIDENTE</td>\n",
       "      <td>-13.106667</td>\n",
       "      <td>-55.993056</td>\n",
       "      <td>LUCAS DO RIO VERDE</td>\n",
       "      <td>MT</td>\n",
       "      <td>...</td>\n",
       "      <td>NaN</td>\n",
       "      <td>SIM</td>\n",
       "      <td>FINALIZADA</td>\n",
       "      <td>A-539/CENIPA/2018</td>\n",
       "      <td>SIM</td>\n",
       "      <td>2019-10-28</td>\n",
       "      <td>0</td>\n",
       "      <td>1</td>\n",
       "      <td>NÃO</td>\n",
       "      <td>2010-01-04 17:30:00</td>\n",
       "    </tr>\n",
       "    <tr>\n",
       "      <th>4</th>\n",
       "      <td>40324</td>\n",
       "      <td>40324</td>\n",
       "      <td>40324</td>\n",
       "      <td>40324</td>\n",
       "      <td>40324</td>\n",
       "      <td>INCIDENTE</td>\n",
       "      <td>NaN</td>\n",
       "      <td>NaN</td>\n",
       "      <td>PELOTAS</td>\n",
       "      <td>RS</td>\n",
       "      <td>...</td>\n",
       "      <td>SBPK</td>\n",
       "      <td>SIM</td>\n",
       "      <td>FINALIZADA</td>\n",
       "      <td>NaN</td>\n",
       "      <td>NÃO</td>\n",
       "      <td>NaT</td>\n",
       "      <td>0</td>\n",
       "      <td>1</td>\n",
       "      <td>NÃO</td>\n",
       "      <td>2010-01-05 19:25:00</td>\n",
       "    </tr>\n",
       "  </tbody>\n",
       "</table>\n",
       "<p>5 rows × 21 columns</p>\n",
       "</div>"
      ],
      "text/plain": [
       "   codigo_ocorrencia  codigo_ocorrencia1  codigo_ocorrencia2  \\\n",
       "0              40211               40211               40211   \n",
       "1              40349               40349               40349   \n",
       "2              40351               40351               40351   \n",
       "3              39527               39527               39527   \n",
       "4              40324               40324               40324   \n",
       "\n",
       "   codigo_ocorrencia3  codigo_ocorrencia4 ocorrencia_classificacao  \\\n",
       "0               40211               40211                INCIDENTE   \n",
       "1               40349               40349                INCIDENTE   \n",
       "2               40351               40351                INCIDENTE   \n",
       "3               39527               39527                 ACIDENTE   \n",
       "4               40324               40324                INCIDENTE   \n",
       "\n",
       "   ocorrencia_latitude  ocorrencia_longitude   ocorrencia_cidade  \\\n",
       "0                  NaN                   NaN      RIO DE JANEIRO   \n",
       "1                  NaN                   NaN               BELÉM   \n",
       "2                  NaN                   NaN      RIO DE JANEIRO   \n",
       "3           -13.106667            -55.993056  LUCAS DO RIO VERDE   \n",
       "4                  NaN                   NaN             PELOTAS   \n",
       "\n",
       "  ocorrencia_uf  ... ocorrencia_aerodromo investigacao_aeronave_liberada  \\\n",
       "0            RJ  ...                  NaN                            SIM   \n",
       "1            PA  ...                 SBBE                            SIM   \n",
       "2            RJ  ...                 SBRJ                            SIM   \n",
       "3            MT  ...                  NaN                            SIM   \n",
       "4            RS  ...                 SBPK                            SIM   \n",
       "\n",
       "  investigacao_status divulgacao_relatorio_numero  \\\n",
       "0          FINALIZADA                         NaN   \n",
       "1          FINALIZADA                         NaN   \n",
       "2          FINALIZADA                         NaN   \n",
       "3          FINALIZADA           A-539/CENIPA/2018   \n",
       "4          FINALIZADA                         NaN   \n",
       "\n",
       "  divulgacao_relatorio_publicado divulgacao_dia_publicacao  \\\n",
       "0                            NÃO                       NaT   \n",
       "1                            NÃO                       NaT   \n",
       "2                            NÃO                       NaT   \n",
       "3                            SIM                2019-10-28   \n",
       "4                            NÃO                       NaT   \n",
       "\n",
       "  total_recomendacoes  total_aeronaves_envolvidas  ocorrencia_saida_pista  \\\n",
       "0                   0                           1                     NÃO   \n",
       "1                   0                           1                     NÃO   \n",
       "2                   0                           1                     NÃO   \n",
       "3                   0                           1                     NÃO   \n",
       "4                   0                           1                     NÃO   \n",
       "\n",
       "  ocorrencia_dia_hora  \n",
       "0 2010-01-03 12:00:00  \n",
       "1 2010-01-03 11:05:00  \n",
       "2 2010-01-03 03:00:00  \n",
       "3 2010-01-04 17:30:00  \n",
       "4 2010-01-05 19:25:00  \n",
       "\n",
       "[5 rows x 21 columns]"
      ]
     },
     "execution_count": 21,
     "metadata": {},
     "output_type": "execute_result"
    }
   ],
   "source": [
    "df.head()"
   ]
  },
  {
   "cell_type": "markdown",
   "metadata": {},
   "source": [
    "## Validação de Schema"
   ]
  },
  {
   "cell_type": "code",
   "execution_count": 22,
   "metadata": {},
   "outputs": [],
   "source": [
    "# importando bliblioteca pandera\n",
    "import pandera as pa"
   ]
  },
  {
   "cell_type": "code",
   "execution_count": 23,
   "metadata": {},
   "outputs": [],
   "source": [
    "# definindo o schema\n",
    "schema = pa.DataFrameSchema(\n",
    "    columns = {\n",
    "        \"codigo_ocorrencia\": pa.Column(pa.Int),\n",
    "        \"codigo_ocorrencia1\": pa.Column(pa.Int),\n",
    "        \"codigo_ocorrencia2\": pa.Column(pa.Int),\n",
    "        \"codigo_ocorrencia3\": pa.Column(pa.Int),\n",
    "        \"codigo_ocorrencia4\": pa.Column(pa.Int),\n",
    "        \"ocorrencia_classificacao\": pa.Column(pa.String, nullable=True),\n",
    "        \"ocorrencia_latitude\": pa.Column(pa.Float, nullable=True),\n",
    "        \"ocorrencia_longitude\": pa.Column(pa.Float, nullable=True),\n",
    "        \"ocorrencia_cidade\": pa.Column(pa.String, nullable=True),\n",
    "        \"ocorrencia_uf\": pa.Column(pa.String, pa.Check.str_length(2, 2), nullable=True),\n",
    "        \"ocorrencia_pais\": pa.Column(pa.String, nullable=True),\n",
    "        \"ocorrencia_aerodromo\": pa.Column(pa.String, nullable=True),\n",
    "        \"investigacao_aeronave_liberada\": pa.Column(pa.String, nullable=True),\n",
    "        \"investigacao_status\": pa.Column(pa.String, nullable=True),\n",
    "        \"divulgacao_relatorio_numero\": pa.Column(pa.String, nullable=True),\n",
    "        \"divulgacao_relatorio_publicado\": pa.Column(pa.String, nullable=True),\n",
    "        \"divulgacao_dia_publicacao\": pa.Column(pa.DateTime, nullable=True),\n",
    "        \"total_recomendacoes\": pa.Column(pa.Int, nullable=True),\n",
    "        \"total_aeronaves_envolvidas\": pa.Column(pa.Int, nullable=True),\n",
    "        \"ocorrencia_saida_pista\": pa.Column(pa.String, nullable=True),\n",
    "        \"ocorrencia_dia_hora\": pa.Column(pa.DateTime, nullable=True),\n",
    "    }\n",
    ")"
   ]
  },
  {
   "cell_type": "code",
   "execution_count": 24,
   "metadata": {},
   "outputs": [
    {
     "data": {
      "text/html": [
       "<div>\n",
       "<style scoped>\n",
       "    .dataframe tbody tr th:only-of-type {\n",
       "        vertical-align: middle;\n",
       "    }\n",
       "\n",
       "    .dataframe tbody tr th {\n",
       "        vertical-align: top;\n",
       "    }\n",
       "\n",
       "    .dataframe thead th {\n",
       "        text-align: right;\n",
       "    }\n",
       "</style>\n",
       "<table border=\"1\" class=\"dataframe\">\n",
       "  <thead>\n",
       "    <tr style=\"text-align: right;\">\n",
       "      <th></th>\n",
       "      <th>codigo_ocorrencia</th>\n",
       "      <th>codigo_ocorrencia1</th>\n",
       "      <th>codigo_ocorrencia2</th>\n",
       "      <th>codigo_ocorrencia3</th>\n",
       "      <th>codigo_ocorrencia4</th>\n",
       "      <th>ocorrencia_classificacao</th>\n",
       "      <th>ocorrencia_latitude</th>\n",
       "      <th>ocorrencia_longitude</th>\n",
       "      <th>ocorrencia_cidade</th>\n",
       "      <th>ocorrencia_uf</th>\n",
       "      <th>...</th>\n",
       "      <th>ocorrencia_aerodromo</th>\n",
       "      <th>investigacao_aeronave_liberada</th>\n",
       "      <th>investigacao_status</th>\n",
       "      <th>divulgacao_relatorio_numero</th>\n",
       "      <th>divulgacao_relatorio_publicado</th>\n",
       "      <th>divulgacao_dia_publicacao</th>\n",
       "      <th>total_recomendacoes</th>\n",
       "      <th>total_aeronaves_envolvidas</th>\n",
       "      <th>ocorrencia_saida_pista</th>\n",
       "      <th>ocorrencia_dia_hora</th>\n",
       "    </tr>\n",
       "  </thead>\n",
       "  <tbody>\n",
       "    <tr>\n",
       "      <th>0</th>\n",
       "      <td>40211</td>\n",
       "      <td>40211</td>\n",
       "      <td>40211</td>\n",
       "      <td>40211</td>\n",
       "      <td>40211</td>\n",
       "      <td>INCIDENTE</td>\n",
       "      <td>NaN</td>\n",
       "      <td>NaN</td>\n",
       "      <td>RIO DE JANEIRO</td>\n",
       "      <td>RJ</td>\n",
       "      <td>...</td>\n",
       "      <td>NaN</td>\n",
       "      <td>SIM</td>\n",
       "      <td>FINALIZADA</td>\n",
       "      <td>NaN</td>\n",
       "      <td>NÃO</td>\n",
       "      <td>NaT</td>\n",
       "      <td>0</td>\n",
       "      <td>1</td>\n",
       "      <td>NÃO</td>\n",
       "      <td>2010-01-03 12:00:00</td>\n",
       "    </tr>\n",
       "    <tr>\n",
       "      <th>1</th>\n",
       "      <td>40349</td>\n",
       "      <td>40349</td>\n",
       "      <td>40349</td>\n",
       "      <td>40349</td>\n",
       "      <td>40349</td>\n",
       "      <td>INCIDENTE</td>\n",
       "      <td>NaN</td>\n",
       "      <td>NaN</td>\n",
       "      <td>BELÉM</td>\n",
       "      <td>PA</td>\n",
       "      <td>...</td>\n",
       "      <td>SBBE</td>\n",
       "      <td>SIM</td>\n",
       "      <td>FINALIZADA</td>\n",
       "      <td>NaN</td>\n",
       "      <td>NÃO</td>\n",
       "      <td>NaT</td>\n",
       "      <td>0</td>\n",
       "      <td>1</td>\n",
       "      <td>NÃO</td>\n",
       "      <td>2010-01-03 11:05:00</td>\n",
       "    </tr>\n",
       "    <tr>\n",
       "      <th>2</th>\n",
       "      <td>40351</td>\n",
       "      <td>40351</td>\n",
       "      <td>40351</td>\n",
       "      <td>40351</td>\n",
       "      <td>40351</td>\n",
       "      <td>INCIDENTE</td>\n",
       "      <td>NaN</td>\n",
       "      <td>NaN</td>\n",
       "      <td>RIO DE JANEIRO</td>\n",
       "      <td>RJ</td>\n",
       "      <td>...</td>\n",
       "      <td>SBRJ</td>\n",
       "      <td>SIM</td>\n",
       "      <td>FINALIZADA</td>\n",
       "      <td>NaN</td>\n",
       "      <td>NÃO</td>\n",
       "      <td>NaT</td>\n",
       "      <td>0</td>\n",
       "      <td>1</td>\n",
       "      <td>NÃO</td>\n",
       "      <td>2010-01-03 03:00:00</td>\n",
       "    </tr>\n",
       "    <tr>\n",
       "      <th>3</th>\n",
       "      <td>39527</td>\n",
       "      <td>39527</td>\n",
       "      <td>39527</td>\n",
       "      <td>39527</td>\n",
       "      <td>39527</td>\n",
       "      <td>ACIDENTE</td>\n",
       "      <td>-13.106667</td>\n",
       "      <td>-55.993056</td>\n",
       "      <td>LUCAS DO RIO VERDE</td>\n",
       "      <td>MT</td>\n",
       "      <td>...</td>\n",
       "      <td>NaN</td>\n",
       "      <td>SIM</td>\n",
       "      <td>FINALIZADA</td>\n",
       "      <td>A-539/CENIPA/2018</td>\n",
       "      <td>SIM</td>\n",
       "      <td>2019-10-28</td>\n",
       "      <td>0</td>\n",
       "      <td>1</td>\n",
       "      <td>NÃO</td>\n",
       "      <td>2010-01-04 17:30:00</td>\n",
       "    </tr>\n",
       "    <tr>\n",
       "      <th>4</th>\n",
       "      <td>40324</td>\n",
       "      <td>40324</td>\n",
       "      <td>40324</td>\n",
       "      <td>40324</td>\n",
       "      <td>40324</td>\n",
       "      <td>INCIDENTE</td>\n",
       "      <td>NaN</td>\n",
       "      <td>NaN</td>\n",
       "      <td>PELOTAS</td>\n",
       "      <td>RS</td>\n",
       "      <td>...</td>\n",
       "      <td>SBPK</td>\n",
       "      <td>SIM</td>\n",
       "      <td>FINALIZADA</td>\n",
       "      <td>NaN</td>\n",
       "      <td>NÃO</td>\n",
       "      <td>NaT</td>\n",
       "      <td>0</td>\n",
       "      <td>1</td>\n",
       "      <td>NÃO</td>\n",
       "      <td>2010-01-05 19:25:00</td>\n",
       "    </tr>\n",
       "    <tr>\n",
       "      <th>...</th>\n",
       "      <td>...</td>\n",
       "      <td>...</td>\n",
       "      <td>...</td>\n",
       "      <td>...</td>\n",
       "      <td>...</td>\n",
       "      <td>...</td>\n",
       "      <td>...</td>\n",
       "      <td>...</td>\n",
       "      <td>...</td>\n",
       "      <td>...</td>\n",
       "      <td>...</td>\n",
       "      <td>...</td>\n",
       "      <td>...</td>\n",
       "      <td>...</td>\n",
       "      <td>...</td>\n",
       "      <td>...</td>\n",
       "      <td>...</td>\n",
       "      <td>...</td>\n",
       "      <td>...</td>\n",
       "      <td>...</td>\n",
       "      <td>...</td>\n",
       "    </tr>\n",
       "    <tr>\n",
       "      <th>5747</th>\n",
       "      <td>79804</td>\n",
       "      <td>79804</td>\n",
       "      <td>79804</td>\n",
       "      <td>79804</td>\n",
       "      <td>79804</td>\n",
       "      <td>INCIDENTE</td>\n",
       "      <td>-23.006944</td>\n",
       "      <td>-47.134444</td>\n",
       "      <td>CAMPINAS</td>\n",
       "      <td>SP</td>\n",
       "      <td>...</td>\n",
       "      <td>SBKP</td>\n",
       "      <td>SIM</td>\n",
       "      <td>FINALIZADA</td>\n",
       "      <td>NaN</td>\n",
       "      <td>NÃO</td>\n",
       "      <td>NaT</td>\n",
       "      <td>0</td>\n",
       "      <td>1</td>\n",
       "      <td>NÃO</td>\n",
       "      <td>2020-12-29 19:00:00</td>\n",
       "    </tr>\n",
       "    <tr>\n",
       "      <th>5748</th>\n",
       "      <td>79757</td>\n",
       "      <td>79757</td>\n",
       "      <td>79757</td>\n",
       "      <td>79757</td>\n",
       "      <td>79757</td>\n",
       "      <td>INCIDENTE GRAVE</td>\n",
       "      <td>-10.804722</td>\n",
       "      <td>-49.756389</td>\n",
       "      <td>LAGOA DA CONFUSÃO</td>\n",
       "      <td>TO</td>\n",
       "      <td>...</td>\n",
       "      <td>NaN</td>\n",
       "      <td>SIM</td>\n",
       "      <td>FINALIZADA</td>\n",
       "      <td>NaN</td>\n",
       "      <td>NÃO</td>\n",
       "      <td>NaT</td>\n",
       "      <td>0</td>\n",
       "      <td>1</td>\n",
       "      <td>NÃO</td>\n",
       "      <td>2020-12-30 18:30:00</td>\n",
       "    </tr>\n",
       "    <tr>\n",
       "      <th>5749</th>\n",
       "      <td>79802</td>\n",
       "      <td>79802</td>\n",
       "      <td>79802</td>\n",
       "      <td>79802</td>\n",
       "      <td>79802</td>\n",
       "      <td>INCIDENTE</td>\n",
       "      <td>-22.810000</td>\n",
       "      <td>-43.250556</td>\n",
       "      <td>RIO DE JANEIRO</td>\n",
       "      <td>RJ</td>\n",
       "      <td>...</td>\n",
       "      <td>SBGL</td>\n",
       "      <td>SIM</td>\n",
       "      <td>FINALIZADA</td>\n",
       "      <td>NaN</td>\n",
       "      <td>NÃO</td>\n",
       "      <td>NaT</td>\n",
       "      <td>0</td>\n",
       "      <td>1</td>\n",
       "      <td>NÃO</td>\n",
       "      <td>2020-12-30 00:54:00</td>\n",
       "    </tr>\n",
       "    <tr>\n",
       "      <th>5750</th>\n",
       "      <td>79756</td>\n",
       "      <td>79756</td>\n",
       "      <td>79756</td>\n",
       "      <td>79756</td>\n",
       "      <td>79756</td>\n",
       "      <td>INCIDENTE GRAVE</td>\n",
       "      <td>-22.507222</td>\n",
       "      <td>-54.364167</td>\n",
       "      <td>VICENTINA</td>\n",
       "      <td>MS</td>\n",
       "      <td>...</td>\n",
       "      <td>NaN</td>\n",
       "      <td>SIM</td>\n",
       "      <td>FINALIZADA</td>\n",
       "      <td>NaN</td>\n",
       "      <td>NÃO</td>\n",
       "      <td>NaT</td>\n",
       "      <td>0</td>\n",
       "      <td>1</td>\n",
       "      <td>NÃO</td>\n",
       "      <td>2020-12-31 09:00:00</td>\n",
       "    </tr>\n",
       "    <tr>\n",
       "      <th>5751</th>\n",
       "      <td>79844</td>\n",
       "      <td>79844</td>\n",
       "      <td>79844</td>\n",
       "      <td>79844</td>\n",
       "      <td>79844</td>\n",
       "      <td>INCIDENTE</td>\n",
       "      <td>NaN</td>\n",
       "      <td>NaN</td>\n",
       "      <td>RIO DE JANEIRO</td>\n",
       "      <td>RJ</td>\n",
       "      <td>...</td>\n",
       "      <td>SBJR</td>\n",
       "      <td>SIM</td>\n",
       "      <td>FINALIZADA</td>\n",
       "      <td>NaN</td>\n",
       "      <td>NÃO</td>\n",
       "      <td>NaT</td>\n",
       "      <td>0</td>\n",
       "      <td>1</td>\n",
       "      <td>NÃO</td>\n",
       "      <td>2020-12-31 13:24:00</td>\n",
       "    </tr>\n",
       "  </tbody>\n",
       "</table>\n",
       "<p>5752 rows × 21 columns</p>\n",
       "</div>"
      ],
      "text/plain": [
       "      codigo_ocorrencia  codigo_ocorrencia1  codigo_ocorrencia2  \\\n",
       "0                 40211               40211               40211   \n",
       "1                 40349               40349               40349   \n",
       "2                 40351               40351               40351   \n",
       "3                 39527               39527               39527   \n",
       "4                 40324               40324               40324   \n",
       "...                 ...                 ...                 ...   \n",
       "5747              79804               79804               79804   \n",
       "5748              79757               79757               79757   \n",
       "5749              79802               79802               79802   \n",
       "5750              79756               79756               79756   \n",
       "5751              79844               79844               79844   \n",
       "\n",
       "      codigo_ocorrencia3  codigo_ocorrencia4 ocorrencia_classificacao  \\\n",
       "0                  40211               40211                INCIDENTE   \n",
       "1                  40349               40349                INCIDENTE   \n",
       "2                  40351               40351                INCIDENTE   \n",
       "3                  39527               39527                 ACIDENTE   \n",
       "4                  40324               40324                INCIDENTE   \n",
       "...                  ...                 ...                      ...   \n",
       "5747               79804               79804                INCIDENTE   \n",
       "5748               79757               79757          INCIDENTE GRAVE   \n",
       "5749               79802               79802                INCIDENTE   \n",
       "5750               79756               79756          INCIDENTE GRAVE   \n",
       "5751               79844               79844                INCIDENTE   \n",
       "\n",
       "      ocorrencia_latitude  ocorrencia_longitude   ocorrencia_cidade  \\\n",
       "0                     NaN                   NaN      RIO DE JANEIRO   \n",
       "1                     NaN                   NaN               BELÉM   \n",
       "2                     NaN                   NaN      RIO DE JANEIRO   \n",
       "3              -13.106667            -55.993056  LUCAS DO RIO VERDE   \n",
       "4                     NaN                   NaN             PELOTAS   \n",
       "...                   ...                   ...                 ...   \n",
       "5747           -23.006944            -47.134444            CAMPINAS   \n",
       "5748           -10.804722            -49.756389   LAGOA DA CONFUSÃO   \n",
       "5749           -22.810000            -43.250556      RIO DE JANEIRO   \n",
       "5750           -22.507222            -54.364167           VICENTINA   \n",
       "5751                  NaN                   NaN      RIO DE JANEIRO   \n",
       "\n",
       "     ocorrencia_uf  ... ocorrencia_aerodromo investigacao_aeronave_liberada  \\\n",
       "0               RJ  ...                  NaN                            SIM   \n",
       "1               PA  ...                 SBBE                            SIM   \n",
       "2               RJ  ...                 SBRJ                            SIM   \n",
       "3               MT  ...                  NaN                            SIM   \n",
       "4               RS  ...                 SBPK                            SIM   \n",
       "...            ...  ...                  ...                            ...   \n",
       "5747            SP  ...                 SBKP                            SIM   \n",
       "5748            TO  ...                  NaN                            SIM   \n",
       "5749            RJ  ...                 SBGL                            SIM   \n",
       "5750            MS  ...                  NaN                            SIM   \n",
       "5751            RJ  ...                 SBJR                            SIM   \n",
       "\n",
       "     investigacao_status divulgacao_relatorio_numero  \\\n",
       "0             FINALIZADA                         NaN   \n",
       "1             FINALIZADA                         NaN   \n",
       "2             FINALIZADA                         NaN   \n",
       "3             FINALIZADA           A-539/CENIPA/2018   \n",
       "4             FINALIZADA                         NaN   \n",
       "...                  ...                         ...   \n",
       "5747          FINALIZADA                         NaN   \n",
       "5748          FINALIZADA                         NaN   \n",
       "5749          FINALIZADA                         NaN   \n",
       "5750          FINALIZADA                         NaN   \n",
       "5751          FINALIZADA                         NaN   \n",
       "\n",
       "     divulgacao_relatorio_publicado divulgacao_dia_publicacao  \\\n",
       "0                               NÃO                       NaT   \n",
       "1                               NÃO                       NaT   \n",
       "2                               NÃO                       NaT   \n",
       "3                               SIM                2019-10-28   \n",
       "4                               NÃO                       NaT   \n",
       "...                             ...                       ...   \n",
       "5747                            NÃO                       NaT   \n",
       "5748                            NÃO                       NaT   \n",
       "5749                            NÃO                       NaT   \n",
       "5750                            NÃO                       NaT   \n",
       "5751                            NÃO                       NaT   \n",
       "\n",
       "     total_recomendacoes  total_aeronaves_envolvidas  ocorrencia_saida_pista  \\\n",
       "0                      0                           1                     NÃO   \n",
       "1                      0                           1                     NÃO   \n",
       "2                      0                           1                     NÃO   \n",
       "3                      0                           1                     NÃO   \n",
       "4                      0                           1                     NÃO   \n",
       "...                  ...                         ...                     ...   \n",
       "5747                   0                           1                     NÃO   \n",
       "5748                   0                           1                     NÃO   \n",
       "5749                   0                           1                     NÃO   \n",
       "5750                   0                           1                     NÃO   \n",
       "5751                   0                           1                     NÃO   \n",
       "\n",
       "     ocorrencia_dia_hora  \n",
       "0    2010-01-03 12:00:00  \n",
       "1    2010-01-03 11:05:00  \n",
       "2    2010-01-03 03:00:00  \n",
       "3    2010-01-04 17:30:00  \n",
       "4    2010-01-05 19:25:00  \n",
       "...                  ...  \n",
       "5747 2020-12-29 19:00:00  \n",
       "5748 2020-12-30 18:30:00  \n",
       "5749 2020-12-30 00:54:00  \n",
       "5750 2020-12-31 09:00:00  \n",
       "5751 2020-12-31 13:24:00  \n",
       "\n",
       "[5752 rows x 21 columns]"
      ]
     },
     "execution_count": 24,
     "metadata": {},
     "output_type": "execute_result"
    }
   ],
   "source": [
    "# aplicando validação\n",
    "schema.validate(df)"
   ]
  },
  {
   "cell_type": "markdown",
   "metadata": {},
   "source": [
    "## Análise Exploratória"
   ]
  },
  {
   "cell_type": "code",
   "execution_count": 25,
   "metadata": {},
   "outputs": [
    {
     "data": {
      "text/html": [
       "<div>\n",
       "<style scoped>\n",
       "    .dataframe tbody tr th:only-of-type {\n",
       "        vertical-align: middle;\n",
       "    }\n",
       "\n",
       "    .dataframe tbody tr th {\n",
       "        vertical-align: top;\n",
       "    }\n",
       "\n",
       "    .dataframe thead th {\n",
       "        text-align: right;\n",
       "    }\n",
       "</style>\n",
       "<table border=\"1\" class=\"dataframe\">\n",
       "  <thead>\n",
       "    <tr style=\"text-align: right;\">\n",
       "      <th></th>\n",
       "      <th>codigo_ocorrencia</th>\n",
       "      <th>codigo_ocorrencia1</th>\n",
       "      <th>codigo_ocorrencia2</th>\n",
       "      <th>codigo_ocorrencia3</th>\n",
       "      <th>codigo_ocorrencia4</th>\n",
       "      <th>ocorrencia_latitude</th>\n",
       "      <th>ocorrencia_longitude</th>\n",
       "      <th>total_recomendacoes</th>\n",
       "      <th>total_aeronaves_envolvidas</th>\n",
       "    </tr>\n",
       "  </thead>\n",
       "  <tbody>\n",
       "    <tr>\n",
       "      <th>count</th>\n",
       "      <td>5752.000000</td>\n",
       "      <td>5752.000000</td>\n",
       "      <td>5752.000000</td>\n",
       "      <td>5752.000000</td>\n",
       "      <td>5752.000000</td>\n",
       "      <td>2.897000e+03</td>\n",
       "      <td>2.901000e+03</td>\n",
       "      <td>5752.000000</td>\n",
       "      <td>5752.000000</td>\n",
       "    </tr>\n",
       "    <tr>\n",
       "      <th>mean</th>\n",
       "      <td>58504.211926</td>\n",
       "      <td>58504.211926</td>\n",
       "      <td>58504.211926</td>\n",
       "      <td>58504.211926</td>\n",
       "      <td>58504.211926</td>\n",
       "      <td>-9.074827e+03</td>\n",
       "      <td>-2.089637e+07</td>\n",
       "      <td>0.303894</td>\n",
       "      <td>1.011996</td>\n",
       "    </tr>\n",
       "    <tr>\n",
       "      <th>std</th>\n",
       "      <td>14060.291611</td>\n",
       "      <td>14060.291611</td>\n",
       "      <td>14060.291611</td>\n",
       "      <td>14060.291611</td>\n",
       "      <td>14060.291611</td>\n",
       "      <td>4.874235e+05</td>\n",
       "      <td>1.116580e+09</td>\n",
       "      <td>1.153253</td>\n",
       "      <td>0.113566</td>\n",
       "    </tr>\n",
       "    <tr>\n",
       "      <th>min</th>\n",
       "      <td>39115.000000</td>\n",
       "      <td>39115.000000</td>\n",
       "      <td>39115.000000</td>\n",
       "      <td>39115.000000</td>\n",
       "      <td>39115.000000</td>\n",
       "      <td>-2.623500e+07</td>\n",
       "      <td>-6.013827e+10</td>\n",
       "      <td>0.000000</td>\n",
       "      <td>1.000000</td>\n",
       "    </tr>\n",
       "    <tr>\n",
       "      <th>25%</th>\n",
       "      <td>46366.500000</td>\n",
       "      <td>46366.500000</td>\n",
       "      <td>46366.500000</td>\n",
       "      <td>46366.500000</td>\n",
       "      <td>46366.500000</td>\n",
       "      <td>-2.343194e+01</td>\n",
       "      <td>-5.252667e+01</td>\n",
       "      <td>0.000000</td>\n",
       "      <td>1.000000</td>\n",
       "    </tr>\n",
       "    <tr>\n",
       "      <th>50%</th>\n",
       "      <td>52692.500000</td>\n",
       "      <td>52692.500000</td>\n",
       "      <td>52692.500000</td>\n",
       "      <td>52692.500000</td>\n",
       "      <td>52692.500000</td>\n",
       "      <td>-2.059944e+01</td>\n",
       "      <td>-4.855250e+01</td>\n",
       "      <td>0.000000</td>\n",
       "      <td>1.000000</td>\n",
       "    </tr>\n",
       "    <tr>\n",
       "      <th>75%</th>\n",
       "      <td>77653.750000</td>\n",
       "      <td>77653.750000</td>\n",
       "      <td>77653.750000</td>\n",
       "      <td>77653.750000</td>\n",
       "      <td>77653.750000</td>\n",
       "      <td>-1.250917e+01</td>\n",
       "      <td>-4.636167e+01</td>\n",
       "      <td>0.000000</td>\n",
       "      <td>1.000000</td>\n",
       "    </tr>\n",
       "    <tr>\n",
       "      <th>max</th>\n",
       "      <td>79874.000000</td>\n",
       "      <td>79874.000000</td>\n",
       "      <td>79874.000000</td>\n",
       "      <td>79874.000000</td>\n",
       "      <td>79874.000000</td>\n",
       "      <td>5.558222e+01</td>\n",
       "      <td>4.875750e+02</td>\n",
       "      <td>23.000000</td>\n",
       "      <td>3.000000</td>\n",
       "    </tr>\n",
       "  </tbody>\n",
       "</table>\n",
       "</div>"
      ],
      "text/plain": [
       "       codigo_ocorrencia  codigo_ocorrencia1  codigo_ocorrencia2  \\\n",
       "count        5752.000000         5752.000000         5752.000000   \n",
       "mean        58504.211926        58504.211926        58504.211926   \n",
       "std         14060.291611        14060.291611        14060.291611   \n",
       "min         39115.000000        39115.000000        39115.000000   \n",
       "25%         46366.500000        46366.500000        46366.500000   \n",
       "50%         52692.500000        52692.500000        52692.500000   \n",
       "75%         77653.750000        77653.750000        77653.750000   \n",
       "max         79874.000000        79874.000000        79874.000000   \n",
       "\n",
       "       codigo_ocorrencia3  codigo_ocorrencia4  ocorrencia_latitude  \\\n",
       "count         5752.000000         5752.000000         2.897000e+03   \n",
       "mean         58504.211926        58504.211926        -9.074827e+03   \n",
       "std          14060.291611        14060.291611         4.874235e+05   \n",
       "min          39115.000000        39115.000000        -2.623500e+07   \n",
       "25%          46366.500000        46366.500000        -2.343194e+01   \n",
       "50%          52692.500000        52692.500000        -2.059944e+01   \n",
       "75%          77653.750000        77653.750000        -1.250917e+01   \n",
       "max          79874.000000        79874.000000         5.558222e+01   \n",
       "\n",
       "       ocorrencia_longitude  total_recomendacoes  total_aeronaves_envolvidas  \n",
       "count          2.901000e+03          5752.000000                 5752.000000  \n",
       "mean          -2.089637e+07             0.303894                    1.011996  \n",
       "std            1.116580e+09             1.153253                    0.113566  \n",
       "min           -6.013827e+10             0.000000                    1.000000  \n",
       "25%           -5.252667e+01             0.000000                    1.000000  \n",
       "50%           -4.855250e+01             0.000000                    1.000000  \n",
       "75%           -4.636167e+01             0.000000                    1.000000  \n",
       "max            4.875750e+02            23.000000                    3.000000  "
      ]
     },
     "execution_count": 25,
     "metadata": {},
     "output_type": "execute_result"
    }
   ],
   "source": [
    "# estatísticas básicas\n",
    "df.describe()"
   ]
  },
  {
   "cell_type": "code",
   "execution_count": 26,
   "metadata": {},
   "outputs": [
    {
     "data": {
      "text/html": [
       "<div>\n",
       "<style scoped>\n",
       "    .dataframe tbody tr th:only-of-type {\n",
       "        vertical-align: middle;\n",
       "    }\n",
       "\n",
       "    .dataframe tbody tr th {\n",
       "        vertical-align: top;\n",
       "    }\n",
       "\n",
       "    .dataframe thead th {\n",
       "        text-align: right;\n",
       "    }\n",
       "</style>\n",
       "<table border=\"1\" class=\"dataframe\">\n",
       "  <thead>\n",
       "    <tr style=\"text-align: right;\">\n",
       "      <th></th>\n",
       "      <th>codigo_ocorrencia</th>\n",
       "      <th>codigo_ocorrencia1</th>\n",
       "      <th>codigo_ocorrencia2</th>\n",
       "      <th>codigo_ocorrencia3</th>\n",
       "      <th>codigo_ocorrencia4</th>\n",
       "      <th>ocorrencia_classificacao</th>\n",
       "      <th>ocorrencia_latitude</th>\n",
       "      <th>ocorrencia_longitude</th>\n",
       "      <th>ocorrencia_cidade</th>\n",
       "      <th>ocorrencia_uf</th>\n",
       "      <th>...</th>\n",
       "      <th>ocorrencia_aerodromo</th>\n",
       "      <th>investigacao_aeronave_liberada</th>\n",
       "      <th>investigacao_status</th>\n",
       "      <th>divulgacao_relatorio_numero</th>\n",
       "      <th>divulgacao_relatorio_publicado</th>\n",
       "      <th>divulgacao_dia_publicacao</th>\n",
       "      <th>total_recomendacoes</th>\n",
       "      <th>total_aeronaves_envolvidas</th>\n",
       "      <th>ocorrencia_saida_pista</th>\n",
       "      <th>ocorrencia_dia_hora</th>\n",
       "    </tr>\n",
       "  </thead>\n",
       "  <tbody>\n",
       "    <tr>\n",
       "      <th>0</th>\n",
       "      <td>40211</td>\n",
       "      <td>40211</td>\n",
       "      <td>40211</td>\n",
       "      <td>40211</td>\n",
       "      <td>40211</td>\n",
       "      <td>INCIDENTE</td>\n",
       "      <td>NaN</td>\n",
       "      <td>NaN</td>\n",
       "      <td>RIO DE JANEIRO</td>\n",
       "      <td>RJ</td>\n",
       "      <td>...</td>\n",
       "      <td>NaN</td>\n",
       "      <td>SIM</td>\n",
       "      <td>FINALIZADA</td>\n",
       "      <td>NaN</td>\n",
       "      <td>NÃO</td>\n",
       "      <td>NaT</td>\n",
       "      <td>0</td>\n",
       "      <td>1</td>\n",
       "      <td>NÃO</td>\n",
       "      <td>2010-01-03 12:00:00</td>\n",
       "    </tr>\n",
       "    <tr>\n",
       "      <th>1</th>\n",
       "      <td>40349</td>\n",
       "      <td>40349</td>\n",
       "      <td>40349</td>\n",
       "      <td>40349</td>\n",
       "      <td>40349</td>\n",
       "      <td>INCIDENTE</td>\n",
       "      <td>NaN</td>\n",
       "      <td>NaN</td>\n",
       "      <td>BELÉM</td>\n",
       "      <td>PA</td>\n",
       "      <td>...</td>\n",
       "      <td>SBBE</td>\n",
       "      <td>SIM</td>\n",
       "      <td>FINALIZADA</td>\n",
       "      <td>NaN</td>\n",
       "      <td>NÃO</td>\n",
       "      <td>NaT</td>\n",
       "      <td>0</td>\n",
       "      <td>1</td>\n",
       "      <td>NÃO</td>\n",
       "      <td>2010-01-03 11:05:00</td>\n",
       "    </tr>\n",
       "    <tr>\n",
       "      <th>2</th>\n",
       "      <td>40351</td>\n",
       "      <td>40351</td>\n",
       "      <td>40351</td>\n",
       "      <td>40351</td>\n",
       "      <td>40351</td>\n",
       "      <td>INCIDENTE</td>\n",
       "      <td>NaN</td>\n",
       "      <td>NaN</td>\n",
       "      <td>RIO DE JANEIRO</td>\n",
       "      <td>RJ</td>\n",
       "      <td>...</td>\n",
       "      <td>SBRJ</td>\n",
       "      <td>SIM</td>\n",
       "      <td>FINALIZADA</td>\n",
       "      <td>NaN</td>\n",
       "      <td>NÃO</td>\n",
       "      <td>NaT</td>\n",
       "      <td>0</td>\n",
       "      <td>1</td>\n",
       "      <td>NÃO</td>\n",
       "      <td>2010-01-03 03:00:00</td>\n",
       "    </tr>\n",
       "    <tr>\n",
       "      <th>3</th>\n",
       "      <td>39527</td>\n",
       "      <td>39527</td>\n",
       "      <td>39527</td>\n",
       "      <td>39527</td>\n",
       "      <td>39527</td>\n",
       "      <td>ACIDENTE</td>\n",
       "      <td>-13.106667</td>\n",
       "      <td>-55.993056</td>\n",
       "      <td>LUCAS DO RIO VERDE</td>\n",
       "      <td>MT</td>\n",
       "      <td>...</td>\n",
       "      <td>NaN</td>\n",
       "      <td>SIM</td>\n",
       "      <td>FINALIZADA</td>\n",
       "      <td>A-539/CENIPA/2018</td>\n",
       "      <td>SIM</td>\n",
       "      <td>2019-10-28</td>\n",
       "      <td>0</td>\n",
       "      <td>1</td>\n",
       "      <td>NÃO</td>\n",
       "      <td>2010-01-04 17:30:00</td>\n",
       "    </tr>\n",
       "    <tr>\n",
       "      <th>4</th>\n",
       "      <td>40324</td>\n",
       "      <td>40324</td>\n",
       "      <td>40324</td>\n",
       "      <td>40324</td>\n",
       "      <td>40324</td>\n",
       "      <td>INCIDENTE</td>\n",
       "      <td>NaN</td>\n",
       "      <td>NaN</td>\n",
       "      <td>PELOTAS</td>\n",
       "      <td>RS</td>\n",
       "      <td>...</td>\n",
       "      <td>SBPK</td>\n",
       "      <td>SIM</td>\n",
       "      <td>FINALIZADA</td>\n",
       "      <td>NaN</td>\n",
       "      <td>NÃO</td>\n",
       "      <td>NaT</td>\n",
       "      <td>0</td>\n",
       "      <td>1</td>\n",
       "      <td>NÃO</td>\n",
       "      <td>2010-01-05 19:25:00</td>\n",
       "    </tr>\n",
       "  </tbody>\n",
       "</table>\n",
       "<p>5 rows × 21 columns</p>\n",
       "</div>"
      ],
      "text/plain": [
       "   codigo_ocorrencia  codigo_ocorrencia1  codigo_ocorrencia2  \\\n",
       "0              40211               40211               40211   \n",
       "1              40349               40349               40349   \n",
       "2              40351               40351               40351   \n",
       "3              39527               39527               39527   \n",
       "4              40324               40324               40324   \n",
       "\n",
       "   codigo_ocorrencia3  codigo_ocorrencia4 ocorrencia_classificacao  \\\n",
       "0               40211               40211                INCIDENTE   \n",
       "1               40349               40349                INCIDENTE   \n",
       "2               40351               40351                INCIDENTE   \n",
       "3               39527               39527                 ACIDENTE   \n",
       "4               40324               40324                INCIDENTE   \n",
       "\n",
       "   ocorrencia_latitude  ocorrencia_longitude   ocorrencia_cidade  \\\n",
       "0                  NaN                   NaN      RIO DE JANEIRO   \n",
       "1                  NaN                   NaN               BELÉM   \n",
       "2                  NaN                   NaN      RIO DE JANEIRO   \n",
       "3           -13.106667            -55.993056  LUCAS DO RIO VERDE   \n",
       "4                  NaN                   NaN             PELOTAS   \n",
       "\n",
       "  ocorrencia_uf  ... ocorrencia_aerodromo investigacao_aeronave_liberada  \\\n",
       "0            RJ  ...                  NaN                            SIM   \n",
       "1            PA  ...                 SBBE                            SIM   \n",
       "2            RJ  ...                 SBRJ                            SIM   \n",
       "3            MT  ...                  NaN                            SIM   \n",
       "4            RS  ...                 SBPK                            SIM   \n",
       "\n",
       "  investigacao_status divulgacao_relatorio_numero  \\\n",
       "0          FINALIZADA                         NaN   \n",
       "1          FINALIZADA                         NaN   \n",
       "2          FINALIZADA                         NaN   \n",
       "3          FINALIZADA           A-539/CENIPA/2018   \n",
       "4          FINALIZADA                         NaN   \n",
       "\n",
       "  divulgacao_relatorio_publicado divulgacao_dia_publicacao  \\\n",
       "0                            NÃO                       NaT   \n",
       "1                            NÃO                       NaT   \n",
       "2                            NÃO                       NaT   \n",
       "3                            SIM                2019-10-28   \n",
       "4                            NÃO                       NaT   \n",
       "\n",
       "  total_recomendacoes  total_aeronaves_envolvidas  ocorrencia_saida_pista  \\\n",
       "0                   0                           1                     NÃO   \n",
       "1                   0                           1                     NÃO   \n",
       "2                   0                           1                     NÃO   \n",
       "3                   0                           1                     NÃO   \n",
       "4                   0                           1                     NÃO   \n",
       "\n",
       "  ocorrencia_dia_hora  \n",
       "0 2010-01-03 12:00:00  \n",
       "1 2010-01-03 11:05:00  \n",
       "2 2010-01-03 03:00:00  \n",
       "3 2010-01-04 17:30:00  \n",
       "4 2010-01-05 19:25:00  \n",
       "\n",
       "[5 rows x 21 columns]"
      ]
     },
     "execution_count": 26,
     "metadata": {},
     "output_type": "execute_result"
    }
   ],
   "source": [
    "df.head()"
   ]
  },
  {
   "cell_type": "markdown",
   "metadata": {},
   "source": [
    "### Quantidade de ocorrêcias por classificação"
   ]
  },
  {
   "cell_type": "code",
   "execution_count": 27,
   "metadata": {},
   "outputs": [
    {
     "data": {
      "text/plain": [
       "INCIDENTE          3171\n",
       "ACIDENTE           1844\n",
       "INCIDENTE GRAVE     737\n",
       "Name: ocorrencia_classificacao, dtype: int64"
      ]
     },
     "execution_count": 27,
     "metadata": {},
     "output_type": "execute_result"
    }
   ],
   "source": [
    "# usando value_counts\n",
    "df['ocorrencia_classificacao'].value_counts(ascending=False)"
   ]
  },
  {
   "cell_type": "code",
   "execution_count": 28,
   "metadata": {},
   "outputs": [
    {
     "data": {
      "text/plain": [
       "ocorrencia_classificacao\n",
       "INCIDENTE          3171\n",
       "ACIDENTE           1844\n",
       "INCIDENTE GRAVE     737\n",
       "Name: ocorrencia_classificacao, dtype: int64"
      ]
     },
     "execution_count": 28,
     "metadata": {},
     "output_type": "execute_result"
    }
   ],
   "source": [
    "# usando groupby e count\n",
    "df.groupby('ocorrencia_classificacao')['ocorrencia_classificacao'].count().sort_values(ascending=False)"
   ]
  },
  {
   "cell_type": "code",
   "execution_count": 29,
   "metadata": {},
   "outputs": [
    {
     "data": {
      "text/plain": [
       "ocorrencia_classificacao\n",
       "INCIDENTE          3171\n",
       "ACIDENTE           1844\n",
       "INCIDENTE GRAVE     737\n",
       "dtype: int64"
      ]
     },
     "execution_count": 29,
     "metadata": {},
     "output_type": "execute_result"
    }
   ],
   "source": [
    "# usando groupby e size\n",
    "df.groupby('ocorrencia_classificacao').size().sort_values(ascending=False)"
   ]
  },
  {
   "cell_type": "markdown",
   "metadata": {},
   "source": [
    "### Quantidade de ocorrências por uf"
   ]
  },
  {
   "cell_type": "code",
   "execution_count": 30,
   "metadata": {},
   "outputs": [
    {
     "data": {
      "text/plain": [
       "ocorrencia_uf\n",
       "SP     1373\n",
       "MG      529\n",
       "RJ      516\n",
       "PR      485\n",
       "RS      352\n",
       "GO      309\n",
       "MT      292\n",
       "PA      287\n",
       "AM      233\n",
       "BA      213\n",
       "SC      189\n",
       "MS      151\n",
       "DF      135\n",
       "PE       98\n",
       "CE       88\n",
       "MA       75\n",
       "ES       75\n",
       "AC       58\n",
       "RR       55\n",
       "TO       54\n",
       "PI       40\n",
       "RO       37\n",
       "AL       33\n",
       "PB       24\n",
       "SE       21\n",
       "RN       16\n",
       "AP       13\n",
       "NaN       1\n",
       "dtype: int64"
      ]
     },
     "execution_count": 30,
     "metadata": {},
     "output_type": "execute_result"
    }
   ],
   "source": [
    "# dropna=false inclui os valores nulos\n",
    "df.groupby('ocorrencia_uf', dropna=False).size().sort_values(ascending=False)"
   ]
  },
  {
   "cell_type": "markdown",
   "metadata": {},
   "source": [
    "### Top 10 cidades com mais ocorrências"
   ]
  },
  {
   "cell_type": "code",
   "execution_count": 31,
   "metadata": {},
   "outputs": [
    {
     "data": {
      "text/plain": [
       "ocorrencia_cidade\n",
       "RIO DE JANEIRO    321\n",
       "SÃO PAULO         275\n",
       "BELO HORIZONTE    188\n",
       "GUARULHOS         153\n",
       "CAMPINAS          150\n",
       "GOIÂNIA           138\n",
       "LONDRINA          137\n",
       "BRASÍLIA          135\n",
       "MANAUS            103\n",
       "PORTO ALEGRE       99\n",
       "dtype: int64"
      ]
     },
     "execution_count": 31,
     "metadata": {},
     "output_type": "execute_result"
    }
   ],
   "source": [
    "df.groupby('ocorrencia_cidade').size().nlargest(10)"
   ]
  },
  {
   "cell_type": "markdown",
   "metadata": {},
   "source": [
    "### Top 10 cidades com menos ocorrências"
   ]
  },
  {
   "cell_type": "code",
   "execution_count": 32,
   "metadata": {},
   "outputs": [
    {
     "data": {
      "text/plain": [
       "ocorrencia_cidade\n",
       "ACREÚNA                 1\n",
       "AFONSO CLÁUDIO          1\n",
       "AGUAÍ                   1\n",
       "AGUDO                   1\n",
       "AGUDOS                  1\n",
       "AIMORÉS                 1\n",
       "ALAGOINHAS              1\n",
       "ALFREDO CHAVES          1\n",
       "ALIANÇA DO TOCANTINS    1\n",
       "ALMIRANTE TAMANDARÉ     1\n",
       "dtype: int64"
      ]
     },
     "execution_count": 32,
     "metadata": {},
     "output_type": "execute_result"
    }
   ],
   "source": [
    "df.groupby('ocorrencia_cidade').size().nsmallest(10)"
   ]
  },
  {
   "cell_type": "markdown",
   "metadata": {},
   "source": [
    "## Visualização de dados"
   ]
  },
  {
   "cell_type": "code",
   "execution_count": 33,
   "metadata": {},
   "outputs": [],
   "source": [
    "# importando matplotlib\n",
    "import matplotlib.pyplot as plt"
   ]
  },
  {
   "cell_type": "code",
   "execution_count": 34,
   "metadata": {},
   "outputs": [],
   "source": [
    "# definindo estilo de gráficos ggplot\n",
    "plt.style.use('ggplot')"
   ]
  },
  {
   "cell_type": "code",
   "execution_count": 35,
   "metadata": {},
   "outputs": [
    {
     "data": {
      "image/png": "[encoded data removed]",
      "text/plain": [
       "<Figure size 432x288 with 1 Axes>"
      ]
     },
     "metadata": {},
     "output_type": "display_data"
    }
   ],
   "source": [
    "# gráfico de barras, ocorrências por estado\n",
    "df['ocorrencia_uf'].value_counts(ascending=True).plot.bar(title=\"Total de ocorrências por estado\", color=\"blue\")\n",
    "plt.xlabel('Quantidade')\n",
    "plt.ylabel('Estado');\n",
    "\n",
    "# para salvar uma imagem do gráfico\n",
    "# plt.savefig(\"ocorrencias_por_estado.png\")"
   ]
  },
  {
   "cell_type": "code",
   "execution_count": 36,
   "metadata": {},
   "outputs": [
    {
     "data": {
      "image/png": "[encoded data removed]",
      "text/plain": [
       "<Figure size 432x288 with 1 Axes>"
      ]
     },
     "metadata": {},
     "output_type": "display_data"
    }
   ],
   "source": [
    "# gráfico de pizza, ocorrência x classificação\n",
    "df['ocorrencia_classificacao'].value_counts().plot.pie(title=\"Total de ocorrências por classificação\");"
   ]
  },
  {
   "cell_type": "code",
   "execution_count": 37,
   "metadata": {},
   "outputs": [
    {
     "data": {
      "image/png": "[encoded data removed]",
      "text/plain": [
       "<Figure size 432x288 with 1 Axes>"
      ]
     },
     "metadata": {},
     "output_type": "display_data"
    }
   ],
   "source": [
    "# gráfico de linha, ocorrências por ano\n",
    "df.groupby(df['ocorrencia_dia_hora'].dt.year).size().plot(title=\"Ocorrências por ano\", marker=\"o\")\n",
    "plt.xlabel('Ano')\n",
    "plt.ylabel('Ocorrências');"
   ]
  },
  {
   "cell_type": "code",
   "execution_count": 38,
   "metadata": {},
   "outputs": [
    {
     "data": {
      "image/png": "[encoded data removed]",
      "text/plain": [
       "<Figure size 432x288 with 1 Axes>"
      ]
     },
     "metadata": {},
     "output_type": "display_data"
    }
   ],
   "source": [
    "# histograma de recomendações\n",
    "plt.hist(df['total_recomendacoes']);"
   ]
  },
  {
   "cell_type": "code",
   "execution_count": 39,
   "metadata": {},
   "outputs": [
    {
     "data": {
      "image/png": "[encoded data removed]",
      "text/plain": [
       "<Figure size 432x288 with 1 Axes>"
      ]
     },
     "metadata": {},
     "output_type": "display_data"
    }
   ],
   "source": [
    "# gráfico de dispersão de recomendações\n",
    "plt.scatter(x=df['ocorrencia_dia_hora'], y=df['total_recomendacoes']);"
   ]
  },
  {
   "cell_type": "code",
   "execution_count": 40,
   "metadata": {},
   "outputs": [
    {
     "data": {
      "image/png": "[encoded data removed]",
      "text/plain": [
       "<Figure size 432x288 with 1 Axes>"
      ]
     },
     "metadata": {},
     "output_type": "display_data"
    }
   ],
   "source": [
    "# bloxplot de recomendações\n",
    "plt.boxplot(df['total_recomendacoes']);"
   ]
  }
 ],
 "metadata": {
  "interpreter": {
   "hash": "fed31c4017b6d3c718b209791f9c952b967df1c2a035e17b343b092e0ecf82c7"
  },
  "kernelspec": {
   "display_name": "Python 3.8.5 64-bit ('venv')",
   "name": "python3"
  },
  "language_info": {
   "codemirror_mode": {
    "name": "ipython",
    "version": 3
   },
   "file_extension": ".py",
   "mimetype": "text/x-python",
   "name": "python",
   "nbconvert_exporter": "python",
   "pygments_lexer": "ipython3",
   "version": "3.8.5"
  },
  "orig_nbformat": 4
 },
 "nbformat": 4,
 "nbformat_minor": 2
}